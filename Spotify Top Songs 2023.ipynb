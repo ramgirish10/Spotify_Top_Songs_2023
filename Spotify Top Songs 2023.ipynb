{
 "cells": [
  {
   "cell_type": "markdown",
   "id": "856e9cee-2621-41b6-a045-c8da2b190eb0",
   "metadata": {},
   "source": [
    "# Enrich image URLs of album covers for Spotify Top Songs 2023"
   ]
  },
  {
   "cell_type": "code",
   "execution_count": 17,
   "id": "1535a5a7-8190-49ce-b9c9-32981323114c",
   "metadata": {},
   "outputs": [],
   "source": [
    "import requests\n",
    "import pandas as pd"
   ]
  },
  {
   "cell_type": "code",
   "execution_count": 19,
   "id": "17370348-f0f9-4ba3-b3c9-4aafbf77d5c3",
   "metadata": {},
   "outputs": [],
   "source": [
    "# Function to get Spotify access token\n",
    "def get_spotify_token(client_id, client_secret):\n",
    "    auth_url = 'https://accounts.spotify.com/api/token'\n",
    "    auth_response = requests.post(auth_url, data={\n",
    "        'grant_type': 'client_credentials',\n",
    "        'client_id': client_id,\n",
    "        'client_secret': client_secret,\n",
    "    })\n",
    "    auth_data = auth_response.json()\n",
    "    return auth_data['access_token']"
   ]
  },
  {
   "cell_type": "code",
   "execution_count": 21,
   "id": "6fa7dd33-7d98-4cf9-ae43-3e806f97bfcf",
   "metadata": {},
   "outputs": [],
   "source": [
    "# Function to search for a track and get its ID\n",
    "def search_track(track_name, artist_name, token):\n",
    "    query = f\"{track_name} artist:{artist_name}\"\n",
    "    url = f\"https://api.spotify.com/v1/search?q={query}&type=track\"\n",
    "    response = requests.get(url, headers={\n",
    "        'Authorization': f'Bearer {token}',\n",
    "    })\n",
    "    json_data = response.json()\n",
    "    try:\n",
    "        first_result = json_data['tracks']['items'][0]\n",
    "        track_id = first_result['id']\n",
    "        return track_id\n",
    "    except (KeyError, IndexError):\n",
    "        return None"
   ]
  },
  {
   "cell_type": "code",
   "execution_count": 23,
   "id": "03c7a6bf-2df0-4121-bd35-6d4322bd61a7",
   "metadata": {},
   "outputs": [],
   "source": [
    "# Function to get track details\n",
    "def get_track_details(track_id, token):\n",
    "    url = f\"https://api.spotify.com/v1/tracks/{track_id}\"\n",
    "    response = requests.get(url, headers={\n",
    "        'Authorization': f'Bearer {token}',\n",
    "    })\n",
    "    json_data = response.json()\n",
    "    image_url = json_data['album']['images'][0]['url']\n",
    "    return image_url"
   ]
  },
  {
   "cell_type": "code",
   "execution_count": 25,
   "id": "f11e384d-6115-4b79-a802-7bf4d119e019",
   "metadata": {},
   "outputs": [],
   "source": [
    "#Spotify API Credentials\n",
    "client_id = 'ccf01a82404242d4908c8ae46d2a6132'\n",
    "client_secret = 'b7c77a3132ef46c2901f83bc72ab9309'"
   ]
  },
  {
   "cell_type": "code",
   "execution_count": 27,
   "id": "4b83dcd9-0967-4b69-95b4-02a1bc456c22",
   "metadata": {},
   "outputs": [],
   "source": [
    "# Get Access Token\n",
    "access_token = get_spotify_token(client_id, client_secret)"
   ]
  },
  {
   "cell_type": "code",
   "execution_count": 29,
   "id": "5bf2dc18-8ef4-4985-b3da-0c379b122dc5",
   "metadata": {},
   "outputs": [],
   "source": [
    "# Read the DataFrame\n",
    "df_spotify = pd.read_csv(r'C:/Users/br1gi/Downloads/Learning/Portfolio Projects/Spotify/spotify-2023.csv', encoding='ISO-8859-1')"
   ]
  },
  {
   "cell_type": "code",
   "execution_count": 31,
   "id": "973e656b-2481-4c7e-a310-8b4bd9df74f4",
   "metadata": {},
   "outputs": [],
   "source": [
    "# Loop through each row to get track details and add to DataFrame\n",
    "for i, row in df_spotify.iterrows():\n",
    "    track_id = search_track(row['track_name'], row['artist(s)_name'], access_token)\n",
    "    if track_id:\n",
    "        image_url = get_track_details(track_id, access_token)\n",
    "        df_spotify.at[i, 'image_url'] = image_url"
   ]
  },
  {
   "cell_type": "code",
   "execution_count": 32,
   "id": "00623b23-ab58-4d96-bb2b-8c25df9f604b",
   "metadata": {},
   "outputs": [],
   "source": [
    "# Save the updated DataFrame\n",
    "df_spotify.to_csv('updated_spotify-2023.csv', index=False)"
   ]
  }
 ],
 "metadata": {
  "kernelspec": {
   "display_name": "Python 3 (ipykernel)",
   "language": "python",
   "name": "python3"
  },
  "language_info": {
   "codemirror_mode": {
    "name": "ipython",
    "version": 3
   },
   "file_extension": ".py",
   "mimetype": "text/x-python",
   "name": "python",
   "nbconvert_exporter": "python",
   "pygments_lexer": "ipython3",
   "version": "3.11.9"
  }
 },
 "nbformat": 4,
 "nbformat_minor": 5
}
